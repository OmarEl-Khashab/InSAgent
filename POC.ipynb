{
 "cells": [
  {
   "cell_type": "markdown",
   "id": "ed4e17e1321ea659",
   "metadata": {},
   "source": [
    "### Libraries "
   ]
  },
  {
   "cell_type": "code",
   "id": "initial_id",
   "metadata": {
    "ExecuteTime": {
     "end_time": "2025-03-17T00:19:24.000789Z",
     "start_time": "2025-03-17T00:18:57.274687Z"
    }
   },
   "source": [
    "import os\n",
    "import operator\n",
    "import json\n",
    "import getpass\n",
    "import nest_asyncio\n",
    "from typing import Literal\n",
    "from dotenv import load_dotenv\n",
    "from typing import Annotated\n",
    "from typing_extensions import TypedDict\n",
    "from langchain.schema import Document\n",
    "from langchain_openai import OpenAIEmbeddings\n",
    "# from langchain_ollama import ChatOllama\n",
    "from langchain_openai import ChatOpenAI\n",
    "from langchain_chroma import Chroma\n",
    "from langgraph.checkpoint.memory import MemorySaver\n",
    "from langchain_core.tools import tool \n",
    "from langgraph.graph import StateGraph, END ,START\n",
    "from langchain_experimental.utilities import PythonREPL\n",
    "from unstructured.cleaners.core import clean_extra_whitespace\n",
    "from langchain_text_splitters import RecursiveCharacterTextSplitter\n",
    "from langchain_community.tools.tavily_search import TavilySearchResults\n",
    "from langchain_core.messages import HumanMessage,SystemMessage,AnyMessage,AIMessage\n",
    "from langchain_community.document_loaders import UnstructuredExcelLoader\n",
    "from llama_index.core import SimpleDirectoryReader\n",
    "from llama_cloud_services import LlamaParse\n",
    "\n",
    "from langgraph.types import Command\n",
    "from langgraph.graph import MessagesState\n",
    "from langgraph.prebuilt import create_react_agent"
   ],
   "outputs": [],
   "execution_count": 1
  },
  {
   "cell_type": "markdown",
   "id": "a9de0a712ca844c9",
   "metadata": {},
   "source": [
    "### Environment Setup"
   ]
  },
  {
   "cell_type": "code",
   "id": "e55fe6465f7ddb45",
   "metadata": {
    "ExecuteTime": {
     "end_time": "2025-03-17T00:21:27.666064Z",
     "start_time": "2025-03-17T00:21:27.658223Z"
    }
   },
   "source": [
    "def _set_env(var: str):\n",
    "    if not os.environ.get(var):\n",
    "        os.environ[var] = getpass.getpass(f\"{var}: \")\n",
    "\n",
    "nest_asyncio.apply()\n",
    "load_dotenv()\n",
    "\n",
    "# Set API keys\n",
    "_set_env(\"LANGSMITH_API_KEY\")\n",
    "_set_env(\"OPENAI_API_KEY\")\n",
    "_set_env('UNSTRUCTURED_API_KEY')\n",
    "_set_env('LLAMA_CLOUD_API_KEY')\n",
    "_set_env('TAVILY_API_KEY')\n",
    "\n",
    "os.environ[\"LANGSMITH_TRACING\"] = \"true\"\n",
    "os.environ[\"LANGSMITH_PROJECT\"] = \"InSAgent\"\n",
    "\n",
    "memory = MemorySaver()"
   ],
   "outputs": [],
   "execution_count": 2
  },
  {
   "cell_type": "markdown",
   "id": "bc44dc24a89b5673",
   "metadata": {},
   "source": [
    "#### Survey Load"
   ]
  },
  {
   "cell_type": "code",
   "id": "6d1783389966f3d3",
   "metadata": {
    "ExecuteTime": {
     "end_time": "2025-03-17T00:21:45.251187Z",
     "start_time": "2025-03-17T00:21:38.925625Z"
    }
   },
   "source": [
    "file_path_survey = \"/Users/omarelkhashab/PycharmProjects/InSAgent/data/consumersurvey\"\n",
    "\n",
    "survey_docs = []\n",
    "\n",
    "loaders = [UnstructuredExcelLoader(os.path.join(file_path_survey, folder), post_processors=[clean_extra_whitespace])\n",
    "           for folder in os.listdir(file_path_survey)\n",
    "           if folder.endswith(\".xlsx\")]\n",
    "\n",
    "for loader in loaders:\n",
    "    survey_docs.extend(loader.load())"
   ],
   "outputs": [],
   "execution_count": 3
  },
  {
   "cell_type": "markdown",
   "id": "ab33850ea7324d7c",
   "metadata": {},
   "source": [
    "### PDF Load Llama index"
   ]
  },
  {
   "cell_type": "code",
   "id": "4b4d9abd3f5c86e3",
   "metadata": {
    "ExecuteTime": {
     "end_time": "2025-03-17T00:22:50.750453Z",
     "start_time": "2025-03-17T00:21:51.480641Z"
    }
   },
   "source": [
    "# set up parser\n",
    "parser = LlamaParse(\n",
    "    result_type=\"markdown\"  # \"markdown\" and \"text\" are available\n",
    ")\n",
    "file_path_pdf = \"/Users/omarelkhashab/PycharmProjects/InSAgent/data/conocophillips\"\n",
    "\n",
    "pdf_docs = []\n",
    "# use SimpleDirectoryReader to parse our file\n",
    "file_extractor_pdf = {\".pdf\": parser}\n",
    "loaders_pdf = [SimpleDirectoryReader(input_files=[os.path.join(file_path_pdf, folder)], file_extractor=file_extractor_pdf) \n",
    "             for folder in os.listdir(file_path_pdf)\n",
    "             if folder.endswith(\".pdf\")]\n",
    "for loader in loaders_pdf:\n",
    "    pdf_docs.append(loader.load_data())"
   ],
   "outputs": [
    {
     "name": "stdout",
     "output_type": "stream",
     "text": [
      "Started parsing the file under job_id 23e492e8-a878-4323-b96b-187803453f34\n"
     ]
    }
   ],
   "execution_count": 4
  },
  {
   "cell_type": "markdown",
   "id": "580af4337285a610",
   "metadata": {},
   "source": [
    "### Metadata filter"
   ]
  },
  {
   "cell_type": "code",
   "id": "333f97a349d499a0",
   "metadata": {
    "ExecuteTime": {
     "end_time": "2025-03-17T00:23:12.255474Z",
     "start_time": "2025-03-17T00:23:12.242409Z"
    }
   },
   "source": [
    "# Clean up metadata (optional)\n",
    "langchain_pdf_docs = []\n",
    "for doc_list in pdf_docs:  # Iterate directly over the outer list\n",
    "    for doc in doc_list:   # Iterate directly over the inner list\n",
    "        # Update metadata and create the new Document in one step\n",
    "        updated_metadata = {\"source\": doc.metadata[\"file_name\"].split(\".\")[0]}\n",
    "        updated_content = \" \".join(doc.text.split()) \n",
    "        langchain_pdf_docs.append(\n",
    "            Document(page_content=updated_content, metadata=updated_metadata)\n",
    "        )\n",
    "\n",
    "for docs in survey_docs:\n",
    "    source = os.path.basename(docs.metadata.get('source', '')).split(\".\")[0]\n",
    "    docs.metadata['source'] = source\n",
    "    docs.page_content = \" \".join(docs.page_content.split()) "
   ],
   "outputs": [],
   "execution_count": 5
  },
  {
   "cell_type": "markdown",
   "id": "80842dca33144d0",
   "metadata": {},
   "source": [
    "\n",
    "### Splitting Docs"
   ]
  },
  {
   "cell_type": "code",
   "id": "242d0e7f44bac3c4",
   "metadata": {
    "ExecuteTime": {
     "end_time": "2025-03-17T00:23:14.157809Z",
     "start_time": "2025-03-17T00:23:14.155706Z"
    }
   },
   "source": [
    "text_split = RecursiveCharacterTextSplitter()"
   ],
   "outputs": [],
   "execution_count": 6
  },
  {
   "cell_type": "code",
   "id": "972e2086e6c53e2a",
   "metadata": {
    "ExecuteTime": {
     "end_time": "2025-03-17T00:23:17.574328Z",
     "start_time": "2025-03-17T00:23:17.413690Z"
    }
   },
   "source": [
    "pages_splits_survey = text_split.split_documents(survey_docs)\n",
    "pages_splits_pdf = text_split.split_documents(langchain_pdf_docs)"
   ],
   "outputs": [],
   "execution_count": 7
  },
  {
   "cell_type": "markdown",
   "id": "462e10db12865a09",
   "metadata": {},
   "source": [
    "#### Create Vector Stores"
   ]
  },
  {
   "cell_type": "code",
   "id": "b131ee194d65c183",
   "metadata": {
    "ExecuteTime": {
     "end_time": "2025-03-17T00:23:43.641210Z",
     "start_time": "2025-03-17T00:23:25.225624Z"
    }
   },
   "source": [
    "embedding = OpenAIEmbeddings(model='text-embedding-ada-002')\n",
    "vectorstore_survey = Chroma.from_documents(documents=pages_splits_survey,\n",
    "                                     embedding = embedding,\n",
    "                                     persist_directory = \"Survey_store\"\n",
    "                                     )\n",
    "vectorstore_PDF = Chroma.from_documents(documents=pages_splits_pdf,\n",
    "                                     embedding = embedding,\n",
    "                                     persist_directory = \"PDF_store\"\n",
    "                                     )"
   ],
   "outputs": [],
   "execution_count": 8
  },
  {
   "cell_type": "code",
   "id": "5e27af63a4cfe1c2",
   "metadata": {
    "ExecuteTime": {
     "end_time": "2025-03-17T00:24:24.037244Z",
     "start_time": "2025-03-17T00:24:24.034963Z"
    }
   },
   "source": [
    "# vectorstore_Survey = Chroma(persist_directory = \"Survey_store\", \n",
    "#                      embedding_function = OpenAIEmbeddings(model='text-embedding-ada-002'))\n",
    "# vectorstore_PDF = Chroma(persist_directory = \"PDF_store\", \n",
    "#                      embedding_function = OpenAIEmbeddings(model='text-embedding-ada-002'))"
   ],
   "outputs": [],
   "execution_count": 9
  },
  {
   "cell_type": "code",
   "id": "35640189c51522ee",
   "metadata": {
    "ExecuteTime": {
     "end_time": "2025-03-18T02:05:58.680680Z",
     "start_time": "2025-03-18T02:05:58.663542Z"
    }
   },
   "source": [
    "retriever_survey = vectorstore_survey.as_retriever(search_type = 'mmr', \n",
    "                                     search_kwargs = {'k':3, \n",
    "                                                      'lambda_mult':0.3,})\n",
    "retriever_pdf = vectorstore_PDF.as_retriever(search_type = 'mmr', \n",
    "                                     search_kwargs = {'k':6, \n",
    "                                                      'lambda_mult':0.3, 'filter': {'source': \"2024-conocophillips-proxy-statement\"}})"
   ],
   "outputs": [],
   "execution_count": 150
  },
  {
   "metadata": {},
   "cell_type": "markdown",
   "source": "",
   "id": "c4d9b0ae52bea5b5"
  },
  {
   "cell_type": "code",
   "id": "922ff3baa230fd94",
   "metadata": {
    "ExecuteTime": {
     "end_time": "2025-03-17T00:24:31.988697Z",
     "start_time": "2025-03-17T00:24:31.985639Z"
    }
   },
   "source": [
    "web_search_tool = TavilySearchResults(max_results=3)"
   ],
   "outputs": [],
   "execution_count": 11
  },
  {
   "cell_type": "code",
   "id": "8a4954354f18aed7",
   "metadata": {
    "ExecuteTime": {
     "end_time": "2025-03-17T00:24:33.065454Z",
     "start_time": "2025-03-17T00:24:33.062521Z"
    }
   },
   "source": [
    "def format_docs(context):\n",
    "    return \"\\n\\n\".join([d.page_content for d in context])"
   ],
   "outputs": [],
   "execution_count": 12
  },
  {
   "cell_type": "markdown",
   "id": "dd02bbe511c2e575",
   "metadata": {},
   "source": [
    "### Chat Models "
   ]
  },
  {
   "cell_type": "code",
   "id": "1846b0e4c07de63d",
   "metadata": {
    "ExecuteTime": {
     "end_time": "2025-03-21T00:30:29.089015Z",
     "start_time": "2025-03-21T00:30:29.021133Z"
    }
   },
   "source": [
    "model = ChatOpenAI(model_name = \"gpt-4o-mini\", seed = 365, max_tokens = 300)\n",
    "# agent_models= ChatOpenAI(model_name = 'gpt-4o-mini', seed = 365,max_tokens = 500)\n",
    "# llm = ChatOllama(\n",
    "#     model=\"mistral:latest\",\n",
    "#     temperature=0,\n",
    "#     other params...\n",
    "# )"
   ],
   "outputs": [],
   "execution_count": 216
  },
  {
   "cell_type": "markdown",
   "id": "e90c884a6165a719",
   "metadata": {},
   "source": [
    "### Prompt Template "
   ]
  },
  {
   "cell_type": "code",
   "id": "e3fa8743ff365e95",
   "metadata": {
    "ExecuteTime": {
     "end_time": "2025-03-21T00:36:23.757195Z",
     "start_time": "2025-03-21T00:36:23.746075Z"
    }
   },
   "source": [
    "router_temp = \"\"\"You are an expert at directing users' question to multiple sources.\n",
    "\n",
    "Review the user question:\n",
    "\n",
    "{question}\n",
    "\n",
    "Route to the available data sources include:\n",
    "\n",
    "1- PDF_store containing ConocoPhillips proxy statement PDF.\n",
    "2- Survey_store containing surveys about Sustainability survey impacts on consumer purchases and a Christmas purchases survey.\n",
    "3- websearch tool using TavilySearch.\n",
    "\n",
    "Use PDF_store for questions about Cocophilps proxy statements, Survey_store for questions about Environmental surveys or Christmas purchases survey and websearch for general business-related questions not covered by the other stores.\n",
    "\n",
    "Return the JSON in a single line with no extra spacing or newlines, where source_name is either PDF_store , Survey_store or websearch with no preamble or explanation \n",
    "\n",
    "\"\"\"\n",
    "\n",
    "#If None of the above conditions Return the JSON in a single line with no extra spacing or newlines, where source_name is 'chat' with no preamble or explanation."
   ],
   "outputs": [],
   "execution_count": 291
  },
  {
   "cell_type": "code",
   "id": "54326d22fe26367d",
   "metadata": {
    "ExecuteTime": {
     "end_time": "2025-03-21T00:36:23.990355Z",
     "start_time": "2025-03-21T00:36:23.988164Z"
    }
   },
   "source": [
    "template_rag = \"\"\"You are an assistant for question-answering tasks. \n",
    "\n",
    "Use the below pieces of retrieved context to answer the question:\n",
    "\n",
    "{context} \n",
    "\n",
    "Think carefully about the above context.\n",
    "\n",
    "Now, review the user question:\n",
    "\n",
    "{question}\n",
    "\n",
    "Provide an answer to this questions using only the above context or say it's beyond my knowledge. \n",
    "\n",
    "Use 7 lines maximum and keep the answer concise.\n",
    "\n",
    "Answer:\"\"\""
   ],
   "outputs": [],
   "execution_count": 292
  },
  {
   "cell_type": "code",
   "id": "4a6c99045c35544a",
   "metadata": {
    "ExecuteTime": {
     "end_time": "2025-03-21T00:36:24.241242Z",
     "start_time": "2025-03-21T00:36:24.238759Z"
    }
   },
   "source": [
    "# Doc grader instructions\n",
    "doc_grader_instructions = \"\"\"You are a grader assessing relevance of a retrieved document to a user question.\n",
    "\n",
    "If the document contains keyword(s) or semantic meaning related to the question, grade it as relevant.\"\"\"\n",
    "\n",
    "# Grader prompt\n",
    "doc_grader_prompt = \"\"\"Here is the retrieved document: \\n\\n {document} \\n\\n Here is the user question: \\n\\n {question}. \n",
    "\n",
    "This carefully and objectively assess whether the document contains at least some information that is relevant to the question.\n",
    "\n",
    "Return the JSON in a single line with no extra spacing or newlines, where binary_score, that is 'yes' or 'no' score to indicate whether the document contains at least some information that is relevant to the question with no preamble or explanation.\"\"\"\n"
   ],
   "outputs": [],
   "execution_count": 293
  },
  {
   "cell_type": "code",
   "id": "aa5cdd6af8760a12",
   "metadata": {
    "ExecuteTime": {
     "end_time": "2025-03-21T00:36:24.491720Z",
     "start_time": "2025-03-21T00:36:24.489484Z"
    }
   },
   "source": [
    "### Hallucination Grader\n",
    "\n",
    "# Hallucination grader instructions\n",
    "hallucination_grader_instructions = \"\"\"\n",
    "\n",
    "You are a teacher grading a quiz. \n",
    "\n",
    "You will be given FACTS and a STUDENT ANSWER. \n",
    "\n",
    "Here is the grade criteria to follow:\n",
    "\n",
    "(1) Ensure the STUDENT ANSWER is grounded in the FACTS. \n",
    "\n",
    "(2) Ensure the STUDENT ANSWER does not contain \"hallucinated\" information outside the scope of the FACTS.\n",
    "\n",
    "Score:\n",
    "\n",
    "A score of yes means that the student's answer meets all of the criteria. This is the highest (best) score. \n",
    "\n",
    "A score of no means that the student's answer does not meet all of the criteria. This is the lowest possible score you can give.\n",
    "\n",
    "Explain your reasoning in a step-by-step manner to ensure your reasoning and conclusion are correct. \n",
    "\n",
    "Avoid simply stating the correct answer at the outset.\"\"\"\n",
    "\n",
    "# Grader prompt\n",
    "hallucination_grader_prompt = \"\"\"FACTS: \\n\\n {documents} \\n\\n STUDENT ANSWER: {generation}. \n",
    "\n",
    "Return a valid JSON object with two keys: \"binary_score\" set to \"yes\" or \"no\" based on whether the STUDENT ANSWER is grounded in the FACTS, and \"explanation\" providing reasoning. the response must always properly formatted JSON with no additional text before or after.\"\"\"\n"
   ],
   "outputs": [],
   "execution_count": 294
  },
  {
   "cell_type": "code",
   "id": "7676d7cfff187a69",
   "metadata": {
    "ExecuteTime": {
     "end_time": "2025-03-21T00:36:24.774003Z",
     "start_time": "2025-03-21T00:36:24.770662Z"
    }
   },
   "source": [
    "### Answer Grader\n",
    "\n",
    "# Answer grader instructions\n",
    "answer_grader_instructions = \"\"\"You are a teacher grading a quiz. \n",
    "\n",
    "You will be given a QUESTION and a STUDENT ANSWER. \n",
    "\n",
    "Here is the grade criteria to follow:\n",
    "\n",
    "(1) The STUDENT ANSWER helps to answer the QUESTION\n",
    "\n",
    "Score:\n",
    "\n",
    "A score of yes means that the student's answer meets all of the criteria. This is the highest (best) score. \n",
    "\n",
    "The student can receive a score of yes if the answer contains extra information that is not explicitly asked for in the question.\n",
    "\n",
    "A score of no means that the student's answer does not meet all of the criteria. This is the lowest possible score you can give.\n",
    "\n",
    "Explain your reasoning in a step-by-step manner to ensure your reasoning and conclusion are correct. \n",
    "\n",
    "Avoid simply stating the correct answer at the outset.\"\"\"\n",
    "\n",
    "# Grader prompt\n",
    "# answer_grader_prompt = \"\"\"QUESTION: \\n\\n {question} \\n\\n STUDENT ANSWER: {generation}. \n",
    "# \n",
    "# Return the JSON with two two keys, binary_score is 'yes' or 'no' score to indicate whether the STUDENT ANSWER meets the criteria. And a key, explanation, that contains an explanation of the score.\"\"\"\n",
    "\n",
    "answer_grader_prompt = \"\"\" QUESTION: {question} \\n\\n STUDENT ANSWER: {generation} \\n\\n Evaluate the STUDENT ANSWER.\n",
    "\n",
    " Return a valid JSON object with two keys: \"binary_score\" set to \"yes\" or \"no\" based on whether the STUDENT ANSWER meets the criteria, and 'explanation' providing reasoning. the response must always properly formatted JSON with no additional text before or after.\n",
    " \"\"\""
   ],
   "outputs": [],
   "execution_count": 295
  },
  {
   "metadata": {
    "ExecuteTime": {
     "end_time": "2025-03-21T00:36:25.071991Z",
     "start_time": "2025-03-21T00:36:25.069516Z"
    }
   },
   "cell_type": "code",
   "source": [
    "# Query Re-Writing Prompt\n",
    "query_rewriting = \"\"\" You are a rephrase expert that takes the user below question:\n",
    "\n",
    "{question} \n",
    "\n",
    "You are responsible to rephrase the user question in a good way that can retrieve better documents to get a better generation and answer.\n",
    "\n",
    "\"\"\""
   ],
   "id": "1a6cfa2504057635",
   "outputs": [],
   "execution_count": 296
  },
  {
   "metadata": {
    "ExecuteTime": {
     "end_time": "2025-03-21T00:36:25.401914Z",
     "start_time": "2025-03-21T00:36:25.399296Z"
    }
   },
   "cell_type": "code",
   "source": [
    "analysis_prompt = \"\"\"You are an business analytics expert for making business tasks. \n",
    "\n",
    "you will be given a generation use only it to provide business insights or say it's hard to give a business analysis on that context\n",
    "\n",
    "Use 4 lines maximum and keep the answer concise.\n",
    "\n",
    "Answer:\"\"\""
   ],
   "id": "33c81c4258227b02",
   "outputs": [],
   "execution_count": 297
  },
  {
   "metadata": {
    "ExecuteTime": {
     "end_time": "2025-03-21T00:36:25.736523Z",
     "start_time": "2025-03-21T00:36:25.733325Z"
    }
   },
   "cell_type": "code",
   "source": [
    "planning_prompt = \"\"\"You are an business planning expert for making business recommendations and plans. \n",
    "\n",
    "You will be given an business analysis: \n",
    "\n",
    "{generation} \n",
    "\n",
    "Review the above business analysis, Provide an business plans and recommendation based on it.\n",
    "\n",
    "Use the above information or say it's hard to give a business analysis on that context. \n",
    "\n",
    "Use 5 lines maximum and keep the answer concise.\n",
    "\n",
    "Answer:\"\"\""
   ],
   "id": "eaa179c151a4da",
   "outputs": [],
   "execution_count": 298
  },
  {
   "cell_type": "markdown",
   "id": "f04860dfa85e67e8",
   "metadata": {},
   "source": [
    "\n",
    "## AgenticRAG"
   ]
  },
  {
   "cell_type": "code",
   "id": "9fc6904ce8bbac22",
   "metadata": {
    "ExecuteTime": {
     "end_time": "2025-03-21T01:06:32.414682Z",
     "start_time": "2025-03-21T01:06:32.406115Z"
    }
   },
   "source": [
    "class State(TypedDict):\n",
    "    # Messages have the type \"list\". The `add_messages` function\n",
    "    # in the annotation defines how this state key should be updated\n",
    "    # (in this case, it appends messages to the list, rather than overwriting them)\n",
    "    question : str\n",
    "    documents : list[str]\n",
    "    generation: str\n",
    "    web_status: str\n",
    "    router_stat : str\n",
    "    max_retries: int  # Max number of retries for answer generation\n",
    "    loop_step: Annotated[int, operator.add]\n",
    "    messages: Annotated[list[AnyMessage], operator.add]"
   ],
   "outputs": [],
   "execution_count": 426
  },
  {
   "cell_type": "code",
   "id": "608c321c18572b6c",
   "metadata": {
    "ExecuteTime": {
     "end_time": "2025-03-23T11:58:17.119732Z",
     "start_time": "2025-03-23T11:58:17.101658Z"
    }
   },
   "source": [
    "#Nodes\n",
    "def retrieve_survey(state:State):\n",
    "    print(\"---SURVEY RETRIEVAL---\")\n",
    "    question = state[\"question\"]\n",
    "    documents = retriever_survey.invoke(question)\n",
    "    return {'documents': documents,\"router_stat\":\"Survey_store\", \"messages\":[HumanMessage(content=question)]}\n",
    "\n",
    "def retrieve_pdf(state:State):\n",
    "    print(\"---PDF RETRIEVAL---\")\n",
    "    question = state[\"question\"]\n",
    "    documents = retriever_pdf.invoke(question)\n",
    "    return  {'documents': documents,\"router_stat\":\"PDF_store\", \"messages\":[HumanMessage(content=question)]}\n",
    "\n",
    "def web_search(state:State):\n",
    "    print('\"---WEB SEARCH---')\n",
    "    documents = state.get(\"documents\", [])\n",
    "    question = state[\"question\"]\n",
    "    # Web search\n",
    "    web_docs = web_search_tool.invoke({\"query\": question})\n",
    "    web_results = \"\\n\".join([d[\"content\"] for d in web_docs])\n",
    "    web_results = Document(page_content=web_results)\n",
    "    documents.append(web_results)\n",
    "    return {\"documents\": documents,\"router_stat\":\"websearch\"}\n",
    "\n",
    "def generate(state:State):\n",
    "    print(\"---GENERATION---\")\n",
    "    question = state[\"question\"]\n",
    "    loop_step = state.get(\"loop_step\", 0)\n",
    "    \n",
    "    if state[\"documents\"] and len(state[\"documents\"]) > 0:\n",
    "            formated_doc = format_docs(state[\"documents\"])\n",
    "            rag_prompt_formated = template_rag.format(context=formated_doc, question=question)\n",
    "\n",
    "    else:# Fallback if no documents are provided\n",
    "        formated_doc = \"No relevant documents found.\"\n",
    "        rag_prompt_formated = template_rag.format(context=formated_doc, question=question)\n",
    "    \n",
    "    \n",
    "    response = model.invoke([HumanMessage(rag_prompt_formated)])\n",
    "    return {\"generation\": response.content, \"messages\": [response],\"loop_step\":loop_step+1}\n",
    "\n",
    "def grade_documents(state):\n",
    "    \"\"\"\n",
    "    Determines whether the retrieved documents are relevant to the question\n",
    "    If any document is not relevant, we will set a flag to run web search\n",
    "\n",
    "    Args:\n",
    "        state (dict): The current graph state\n",
    "\n",
    "    Returns:\n",
    "        state (dict): Filtered out irrelevant documents and updated web_search state\n",
    "    \"\"\"\n",
    "\n",
    "    print(\"---CHECK DOCUMENT RELEVANCE TO QUESTION---\")\n",
    "    documents = state[\"documents\"]\n",
    "    question = state[\"question\"]\n",
    "    # Score each doc\n",
    "    filtered_docs = []\n",
    "    for d in documents:\n",
    "        doc_grader_prompt_formatted = doc_grader_prompt.format(\n",
    "            document=d.page_content, question=question\n",
    "        )\n",
    "        result = model.invoke(\n",
    "            [SystemMessage(content=doc_grader_instructions)]\n",
    "            + [HumanMessage(content=doc_grader_prompt_formatted)]\n",
    "        )\n",
    "        grade = json.loads(str(result.content))[\"binary_score\"]\n",
    "        # Document relevant\n",
    "        if grade.lower() == \"yes\":\n",
    "            print(\"---GRADE: DOCUMENT RELEVANT---\")\n",
    "            filtered_docs.append(d)\n",
    "        # # Document not relevant\n",
    "        else:\n",
    "            print(\"---GRADE: DOCUMENT NOT RELEVANT---\")\n",
    "            # We do not include the document in filtered_docs\n",
    "            # We set a flag to indicate that we want to run web search\n",
    "    web_status = \"Yes\" if not filtered_docs else \"No\"\n",
    "    return {\"documents\": filtered_docs,\"web_status\":web_status}\n",
    "\n",
    "def rephrase_question(state:State):\n",
    "    question = state[\"question\"]\n",
    "    messages = state[\"messages\"]\n",
    "    router_stat = state[\"router_stat\"]\n",
    "\n",
    "\n",
    "    rephrase_prompt = query_rewriting.format(question=question)\n",
    "    response = model.invoke([SystemMessage(rephrase_prompt)])\n",
    "\n",
    "    new_question = response.content\n",
    "    print(f\"---Rephrased Question: {new_question}---\")\n",
    "\n",
    "    return {\"question\":new_question ,\n",
    "        \"messages\": [response],  \n",
    "        \"loop_step\": state[\"loop_step\"] + 1 , \"router_stat\":router_stat\n",
    "    }\n"
   ],
   "outputs": [],
   "execution_count": 510
  },
  {
   "cell_type": "code",
   "id": "7348cb1a2bb5bccd",
   "metadata": {
    "ExecuteTime": {
     "end_time": "2025-03-21T01:06:33.169762Z",
     "start_time": "2025-03-21T01:06:33.158590Z"
    }
   },
   "source": [
    "#Edges functions:\n",
    "def route_question(state:State):\n",
    "    question = state[\"question\"]\n",
    "    route_response_prompt_formated = router_temp.format(question=question)\n",
    "    route_response = model.invoke([SystemMessage(route_response_prompt_formated)])\n",
    "    route_response= json.loads(route_response.content)[\"source_name\"]\n",
    "    state[\"router_stat\"] = route_response\n",
    "    # print(f\"Router Status Updated: {state['router_stat']}\")\n",
    "    if route_response == \"PDF_store\":\n",
    "        return state[\"router_stat\"]\n",
    "    if route_response == \"Survey_store\":\n",
    "        return state[\"router_stat\"]\n",
    "    if route_response == \"websearch\":\n",
    "        return state[\"router_stat\"]\n",
    "\n",
    "\n",
    "def decide_to_generate(state):\n",
    "    print(\"---ASSESS GRADED DOCUMENTS---\")\n",
    "\n",
    "    web_status = state[\"web_status\"]\n",
    "\n",
    "    if web_status == \"Yes\":\n",
    "        # All documents have been filtered check_relevance\n",
    "        # We will re-generate a new query\n",
    "        print(\n",
    "            \"---DECISION: NOT ALL DOCUMENTS ARE RELEVANT TO QUESTION, INCLUDE WEB SEARCH---\"\n",
    "        )\n",
    "        return \"irrelevant\"\n",
    "    else:\n",
    "        # We have relevant documents, so generate answer\n",
    "        print(\"---DECISION: GENERATE---\")\n",
    "        return \"relevant\"\n",
    "    \n",
    "    \n",
    "def grade_generation_v_documents_and_question(state):\n",
    "\n",
    "    print(\"---CHECK HALLUCINATIONS---\")\n",
    "    question = state[\"question\"]\n",
    "    documents = state[\"documents\"]\n",
    "    generation = state[\"generation\"]\n",
    "    max_retries = state.get(\"max_retries\", 2)  # Default to 5 if not provided\n",
    "\n",
    "    hallucination_grader_prompt_formatted = hallucination_grader_prompt.format(\n",
    "        documents=format_docs(documents), generation=generation\n",
    "    )\n",
    "    result = model.invoke(\n",
    "        [SystemMessage(content=hallucination_grader_instructions)]\n",
    "        + [HumanMessage(content=hallucination_grader_prompt_formatted)]\n",
    "    )\n",
    "    grade = json.loads(str(result.content))[\"binary_score\"]\n",
    "\n",
    "    # Check hallucination\n",
    "    if grade == \"yes\":\n",
    "        print(\"---DECISION: GENERATION IS GROUNDED IN DOCUMENTS---\")\n",
    "        # Check question-answering\n",
    "        print(\"---GRADE GENERATION vs QUESTION---\")\n",
    "        # Test using question and generation from above\n",
    "\n",
    "        answer_grader_prompt_formatted = answer_grader_prompt.format(\n",
    "             question=question, generation=generation\n",
    "        )\n",
    "        result = model.invoke(\n",
    "            [SystemMessage(content=answer_grader_instructions)]\n",
    "            + [HumanMessage(content=answer_grader_prompt_formatted)]\n",
    "        )\n",
    "        grade = json.loads(str(result.content))[\"binary_score\"]\n",
    "        if grade == \"yes\":\n",
    "            print(\"---DECISION: GENERATION ADDRESSES QUESTION---\")\n",
    "            return \"useful\"\n",
    "        elif state[\"loop_step\"] <= max_retries:\n",
    "            print(\"---DECISION: GENERATION DOES NOT ADDRESS QUESTION---\")\n",
    "            return \"not useful\"\n",
    "        else:\n",
    "            print(\"---DECISION: MAX RETRIES REACHED---\")\n",
    "            return \"max retries\"\n",
    "    elif state[\"loop_step\"] <= max_retries:\n",
    "        print(\"---DECISION: GENERATION IS NOT GROUNDED IN DOCUMENTS, RE-TRY---\")\n",
    "        return \"not supported\"\n",
    "    else:\n",
    "        print(\"---DECISION: MAX RETRIES REACHED---\")\n",
    "        return \"max retries\""
   ],
   "outputs": [],
   "execution_count": 428
  },
  {
   "cell_type": "code",
   "id": "637e780687c139c",
   "metadata": {
    "ExecuteTime": {
     "end_time": "2025-03-21T01:06:33.497377Z",
     "start_time": "2025-03-21T01:06:33.470762Z"
    }
   },
   "source": [
    "graph_builder = StateGraph(State)\n",
    "graph_builder.set_conditional_entry_point(                   \n",
    "    route_question, \n",
    "     {\n",
    "        \"PDF_store\": \"retrieve_pdf\" ,\n",
    "        \"Survey_store\": \"retrieve_survey\",\n",
    "        \"websearch\" : \"web_search\",\n",
    "    }\n",
    ")\n",
    "graph_builder.add_conditional_edges(\n",
    "    \"grade_documents\",\n",
    "    decide_to_generate,\n",
    "    {\n",
    "        \"irrelevant\": \"web_search\",\n",
    "        \"relevant\": \"generate\",\n",
    "    },\n",
    ")\n",
    "\n",
    "graph_builder.add_conditional_edges(\n",
    "    \"generate\",\n",
    "    grade_generation_v_documents_and_question,\n",
    "    {\n",
    "        \"not supported\": \"generate\",\n",
    "        \"useful\": END,\n",
    "        \"not useful\": \"rephrase_question\",\n",
    "        \"max retries\": END,\n",
    "    },\n",
    ")\n",
    "\n",
    "graph_builder.add_conditional_edges(\n",
    "    \"rephrase_question\",\n",
    "    lambda state: state[\"router_stat\"],\n",
    "    {\n",
    "        \"PDF_store\": \"retrieve_pdf\" ,\n",
    "        \"Survey_store\": \"retrieve_survey\",\n",
    "    },\n",
    ")"
   ],
   "outputs": [
    {
     "data": {
      "text/plain": [
       "<langgraph.graph.state.StateGraph at 0x31af024d0>"
      ]
     },
     "execution_count": 429,
     "metadata": {},
     "output_type": "execute_result"
    }
   ],
   "execution_count": 429
  },
  {
   "cell_type": "code",
   "id": "adafe82c694084d4",
   "metadata": {
    "ExecuteTime": {
     "end_time": "2025-03-21T01:06:33.890283Z",
     "start_time": "2025-03-21T01:06:33.885159Z"
    }
   },
   "source": [
    "graph_builder.add_node(\"retrieve_pdf\", retrieve_pdf)\n",
    "graph_builder.add_node(\"retrieve_survey\", retrieve_survey)\n",
    "graph_builder.add_node(\"grade_documents\", grade_documents)\n",
    "graph_builder.add_node(\"generate\", generate)\n",
    "graph_builder.add_node(\"web_search\", web_search)\n",
    "graph_builder.add_node(\"rephrase_question\", rephrase_question)"
   ],
   "outputs": [
    {
     "data": {
      "text/plain": [
       "<langgraph.graph.state.StateGraph at 0x31af024d0>"
      ]
     },
     "execution_count": 430,
     "metadata": {},
     "output_type": "execute_result"
    }
   ],
   "execution_count": 430
  },
  {
   "cell_type": "code",
   "id": "28c5bdca13dda9f1",
   "metadata": {
    "ExecuteTime": {
     "end_time": "2025-03-21T01:06:34.263900Z",
     "start_time": "2025-03-21T01:06:34.255928Z"
    }
   },
   "source": [
    "graph_builder.add_edge(\"retrieve_survey\", \"grade_documents\")\n",
    "graph_builder.add_edge(\"retrieve_pdf\", \"grade_documents\")\n",
    "graph_builder.add_edge(\"web_search\",\"generate\")"
   ],
   "outputs": [
    {
     "data": {
      "text/plain": [
       "<langgraph.graph.state.StateGraph at 0x31af024d0>"
      ]
     },
     "execution_count": 431,
     "metadata": {},
     "output_type": "execute_result"
    }
   ],
   "execution_count": 431
  },
  {
   "cell_type": "code",
   "id": "d034510d55e9553b",
   "metadata": {
    "ExecuteTime": {
     "end_time": "2025-03-21T01:06:35.018537Z",
     "start_time": "2025-03-21T01:06:34.981771Z"
    }
   },
   "source": "graph1 = graph_builder.compile()",
   "outputs": [],
   "execution_count": 432
  },
  {
   "cell_type": "code",
   "id": "634a22406f78d6f3",
   "metadata": {
    "ExecuteTime": {
     "end_time": "2025-03-21T01:06:36.826718Z",
     "start_time": "2025-03-21T01:06:36.605102Z"
    }
   },
   "source": [
    "from IPython.display import Image, display\n",
    "\n",
    "display(Image(graph1.get_graph().draw_mermaid_png()))"
   ],
   "outputs": [
    {
     "data": {
      "image/png": "[encoded data removed]",
      "text/plain": [
       "<IPython.core.display.Image object>"
      ]
     },
     "metadata": {},
     "output_type": "display_data"
    }
   ],
   "execution_count": 433
  },
  {
   "metadata": {},
   "cell_type": "markdown",
   "source": "### Agentic RAG Test Cases",
   "id": "2fff1fc71dd7d90c"
  },
  {
   "cell_type": "code",
   "id": "cc5f0fd391a6b4a1",
   "metadata": {
    "ExecuteTime": {
     "end_time": "2025-03-23T11:48:39.851456Z",
     "start_time": "2025-03-23T11:48:39.810302Z"
    }
   },
   "source": [
    "initial_state_1 = {\"question\" :\"Who are the 12 director nominees that board recommends?\"}\n",
    "initial_state_2 = {\"question\" :\"Can you summarize the full results of the sustainability survey?\"}\n",
    "initial_state_3 = {\"question\" :\"What media types get attention when consumers look for brands at Christmas time such as Radio and others?\"}\n",
    "\n",
    "results = graph1.invoke(initial_state_1)"
   ],
   "outputs": [],
   "execution_count": 502
  },
  {
   "metadata": {
    "ExecuteTime": {
     "end_time": "2025-03-21T01:04:23.274057Z",
     "start_time": "2025-03-21T01:04:23.270960Z"
    }
   },
   "cell_type": "code",
   "source": "# results['messages']",
   "id": "8559d907fa0a389a",
   "outputs": [],
   "execution_count": 410
  },
  {
   "metadata": {},
   "cell_type": "markdown",
   "source": "## Business Analysis Agent",
   "id": "e414a3435d1167a7"
  },
  {
   "metadata": {
    "ExecuteTime": {
     "end_time": "2025-03-21T01:06:39.906928Z",
     "start_time": "2025-03-21T01:06:39.901297Z"
    }
   },
   "cell_type": "code",
   "source": [
    "class State1(TypedDict):\n",
    "    # Messages have the type \"list\". The `add_messages` function\n",
    "    # in the annotation defines how this state key should be updated\n",
    "    # (in this case, it appends messages to the list, rather than overwriting them)\n",
    "    question :str\n",
    "    generation : str \n",
    "    messages: Annotated[list[AnyMessage], operator.add]"
   ],
   "id": "aeee8bf0f9d544ac",
   "outputs": [],
   "execution_count": 434
  },
  {
   "metadata": {
    "ExecuteTime": {
     "end_time": "2025-03-23T11:59:27.380832Z",
     "start_time": "2025-03-23T11:59:27.370890Z"
    }
   },
   "cell_type": "code",
   "source": [
    "# def web_search(state:State):\n",
    "\n",
    "def get_insights(state:State1):\n",
    "    print(\"---START ANALYSIS---\")\n",
    "    generation = state[\"generation\"]\n",
    "    \n",
    "\n",
    "    insight_response = model.invoke(\n",
    "            [SystemMessage(content=analysis_prompt)]\n",
    "            + [HumanMessage(content=generation)]\n",
    "        )\n",
    "    return {\"generation\": insight_response.content}\n",
    "\n",
    "#Edges functions:\n",
    "def planning(state:State):\n",
    "    print(\"---START PlANNING---\")\n",
    "    generation = state[\"generation\"]\n",
    "    # question = state[\"question\"]\n",
    "\n",
    "    planning_prompt_prompt_formated = planning_prompt.format(generation=generation)\n",
    "    planning_response = model.invoke([HumanMessage(planning_prompt_prompt_formated)])\n",
    "    return {\"generation\": [planning_response]}\n"
   ],
   "id": "6b9273fffb687048",
   "outputs": [],
   "execution_count": 511
  },
  {
   "metadata": {
    "ExecuteTime": {
     "end_time": "2025-03-21T01:06:40.535021Z",
     "start_time": "2025-03-21T01:06:40.524741Z"
    }
   },
   "cell_type": "code",
   "source": "graph_builder2 = StateGraph(State1)",
   "id": "30c6731728cda985",
   "outputs": [],
   "execution_count": 436
  },
  {
   "metadata": {
    "ExecuteTime": {
     "end_time": "2025-03-21T01:06:40.871396Z",
     "start_time": "2025-03-21T01:06:40.864686Z"
    }
   },
   "cell_type": "code",
   "source": [
    "graph_builder2.add_node(\"get_insights\", get_insights)\n",
    "graph_builder2.add_node(\"planning\", planning)"
   ],
   "id": "8483abe2d7b735b",
   "outputs": [
    {
     "data": {
      "text/plain": [
       "<langgraph.graph.state.StateGraph at 0x31aee0ee0>"
      ]
     },
     "execution_count": 437,
     "metadata": {},
     "output_type": "execute_result"
    }
   ],
   "execution_count": 437
  },
  {
   "metadata": {
    "ExecuteTime": {
     "end_time": "2025-03-21T01:06:41.268791Z",
     "start_time": "2025-03-21T01:06:41.264518Z"
    }
   },
   "cell_type": "code",
   "source": [
    "graph_builder2.add_edge(START, \"get_insights\")\n",
    "graph_builder2.add_edge(\"get_insights\",\"planning\")\n",
    "graph_builder2.add_edge(\"planning\",END)"
   ],
   "id": "ac9270d1737ab21b",
   "outputs": [
    {
     "data": {
      "text/plain": [
       "<langgraph.graph.state.StateGraph at 0x31aee0ee0>"
      ]
     },
     "execution_count": 438,
     "metadata": {},
     "output_type": "execute_result"
    }
   ],
   "execution_count": 438
  },
  {
   "metadata": {
    "ExecuteTime": {
     "end_time": "2025-03-23T11:49:41.242790Z",
     "start_time": "2025-03-23T11:49:41.239611Z"
    }
   },
   "cell_type": "code",
   "source": "graph2 = graph_builder2.compile()",
   "id": "eacc2a75f5dfcf20",
   "outputs": [],
   "execution_count": 504
  },
  {
   "metadata": {
    "ExecuteTime": {
     "end_time": "2025-03-23T11:50:28.161464Z",
     "start_time": "2025-03-23T11:50:27.485137Z"
    }
   },
   "cell_type": "code",
   "source": [
    "from IPython.display import Image, display\n",
    "\n",
    "display(Image(graph2.get_graph().draw_mermaid_png()))"
   ],
   "id": "255a779a71876fa3",
   "outputs": [
    {
     "data": {
      "image/png": "[encoded data removed]",
      "text/plain": [
       "<IPython.core.display.Image object>"
      ]
     },
     "metadata": {},
     "output_type": "display_data"
    }
   ],
   "execution_count": 506
  },
  {
   "cell_type": "markdown",
   "id": "59272956c9c21e1b",
   "metadata": {},
   "source": "## Supervisor Agent Tools"
  },
  {
   "cell_type": "code",
   "id": "7905743c16fa1e4f",
   "metadata": {
    "ExecuteTime": {
     "end_time": "2025-03-21T01:06:43.452201Z",
     "start_time": "2025-03-21T01:06:43.444585Z"
    }
   },
   "source": [
    "repl = PythonREPL()\n",
    "\n",
    "@tool\n",
    "def python_repl_tool(\n",
    "    code: Annotated[str, \"The python code to execute to generate your chart\"],\n",
    "):\n",
    "    \"\"\"Use this to execute python code and do math. If you want to see the output of a value,\n",
    "    you should print it out with `print(...)`. This is visible to the user.\"\"\"\n",
    "    try:\n",
    "        result = repl.run(code)\n",
    "    except BaseException as e:\n",
    "        return f\"Failed to execute. Error: {repr(e)}\"\n",
    "    result_str = f\"Successfully executed:\\n\\`\\`\\`python\\n{code}\\n\\`\\`\\`\\nStdout: {result}\"\n",
    "    return result_str\n",
    "\n",
    "class RAGAgent:\n",
    "    def __init__(self):\n",
    "        # Your RAGAgent with its own nodes/edges and vector store routing\n",
    "        self.graph1 = graph_builder.compile()\n",
    "    \n",
    "    def run(self,question):\n",
    "        # Logic to process the question and return an answer\n",
    "        ans = self.graph1.invoke({\"question\": question})\n",
    "        return ans\n",
    "    \n",
    "class BusAgent:\n",
    "    def __init__(self):\n",
    "        # Your RAGAgent with its own nodes/edges and vector store routing\n",
    "        self.graph2 = graph_builder2.compile()\n",
    "    \n",
    "    def run(self,generation):\n",
    "        # Logic to process the question and return an answer\n",
    "        res = self.graph2.invoke({\"generation\": generation})\n",
    "        return res"
   ],
   "outputs": [],
   "execution_count": 440
  },
  {
   "cell_type": "markdown",
   "id": "f43a1e11430ab21e",
   "metadata": {},
   "source": "## Multi-Agent Graph"
  },
  {
   "cell_type": "code",
   "id": "331f705f737fa134",
   "metadata": {
    "ExecuteTime": {
     "end_time": "2025-03-21T01:06:44.256229Z",
     "start_time": "2025-03-21T01:06:44.245824Z"
    }
   },
   "source": [
    "members = [\"coder\", \"rag\",\"business_analysis\"]\n",
    "# Our team supervisor is an LLM node. It just picks the next agent to process\n",
    "# and decides when the work is completed\n",
    "options = members + [\"FINISH\"]\n",
    "\n",
    "system_prompt = (\n",
    "    \"You are a supervisor tasked with managing a conversation between the\"\n",
    "    f\" following workers: {members}. Given the following user request,\"\n",
    "    \" respond with the worker to act next. Each worker will perform a\"\n",
    "    \" task and respond with their results and status. When finished,\"\n",
    "    \" respond with FINISH.\"\n",
    "    \"\\n\\nRouting Rules:\"\n",
    "    \"\\n- If the request involves question about data, choose 'rag'.\"\n",
    "    \"\\n- If the request involves coding, plotting, or data visualization, choose 'coder'.\"\n",
    "    \"\\n- If the request involves business_analysis request and planning choose 'business_analysis'.\"\n",
    "    \n",
    ")\n",
    "\n",
    "class Router(TypedDict):\n",
    "    \"\"\"Worker to route to next. If no workers needed, route to FINISH.\"\"\"\n",
    "\n",
    "    next: Literal[\"coder\", \"rag\",\"business_analysis\",\"FINISH\"]\n",
    "\n",
    "# Define the State\n",
    "class State(MessagesState):\n",
    "    next: str"
   ],
   "outputs": [],
   "execution_count": 441
  },
  {
   "cell_type": "markdown",
   "id": "66f210181b401856",
   "metadata": {},
   "source": [
    "### Define MultiAgent Nodes"
   ]
  },
  {
   "cell_type": "code",
   "id": "b8812accc475f81d",
   "metadata": {
    "ExecuteTime": {
     "end_time": "2025-03-21T23:25:10.316459Z",
     "start_time": "2025-03-21T23:25:10.284828Z"
    }
   },
   "source": [
    "def supervisor_node(state: State) -> Command[Literal[\"coder\", \"rag\",\"business_analysis\", \"__end__\"]]:\n",
    "    messages = [\n",
    "        {\"role\": \"system\", \"content\": system_prompt},\n",
    "    ] + state[\"messages\"]\n",
    "    response = model.with_structured_output(Router).invoke(messages)\n",
    "    goto = response[\"next\"]\n",
    "    if goto == \"FINISH\":\n",
    "        goto = END\n",
    "\n",
    "    return Command(goto=goto, update={\"next\": goto})\n",
    "\n",
    "# NOTE: THIS PERFORMS ARBITRARY CODE EXECUTION, WHICH CAN BE UNSAFE WHEN NOT SANDBOXED\n",
    "code_agent = create_react_agent(model, tools=[python_repl_tool])\n",
    "\n",
    "def code_node(state: State) -> Command[Literal[\"supervisor\"]]:\n",
    "    result = code_agent.invoke(state)\n",
    "    return Command(\n",
    "        update={\n",
    "            \"messages\": [\n",
    "                HumanMessage(content=result[\"messages\"][-1].content, name=\"coder\")\n",
    "            ]\n",
    "        },\n",
    "        goto=\"supervisor\",\n",
    "    )\n",
    "# \n",
    "def rag_node(state: State) -> Command[Literal[\"supervisor\"]]:\n",
    "    rag_agent = RAGAgent()  # Instantiate the RAGAgent\n",
    "    question = state[\"messages\"]\n",
    "    answer = rag_agent.run(question[0].content)  # Run the RAGAgent's graph\n",
    "    return Command(\n",
    "        update={\n",
    "            \"messages\": [\n",
    "                HumanMessage(content=answer[\"messages\"][-1].content, name=\"rag\") ]\n",
    "\n",
    "        },\n",
    "        goto=\"supervisor\",\n",
    "    )\n",
    "\n",
    "def bus(state: State) -> Command[Literal[\"supervisor\"]]:\n",
    "    print(f'current state{state}')\n",
    "    bus_agent = BusAgent()  # Instantiate the RAGAgent\n",
    "    messages = state[\"messages\"]\n",
    "    answer = bus_agent.run(messages[-1].content)  # Run the RAGAgent's graph\n",
    "    return Command(\n",
    "        update={\n",
    "            \"messages\": [\n",
    "                HumanMessage(content=answer[\"generation\"][-1].content, name=\"business_analysis\") ]\n",
    "\n",
    "        },\n",
    "        goto=\"supervisor\",\n",
    "    )"
   ],
   "outputs": [],
   "execution_count": 499
  },
  {
   "cell_type": "code",
   "id": "1e0d499793945fdf",
   "metadata": {
    "ExecuteTime": {
     "end_time": "2025-03-21T23:25:11.327428Z",
     "start_time": "2025-03-21T23:25:11.317111Z"
    }
   },
   "source": [
    "# Build the supervisor graph\n",
    "builder = StateGraph(State)\n",
    "builder.set_entry_point(\"supervisor\")\n",
    "builder.add_node(\"supervisor\", supervisor_node)\n",
    "builder.add_node(\"rag\", rag_node)\n",
    "builder.add_node(\"coder\", code_node)\n",
    "builder.add_node(\"business_analysis\", bus)\n",
    "\n",
    "# graph= builder.compile()\n",
    "graph = builder.compile(checkpointer=memory)\n",
    "thread = {\"configurable\": {\"thread_id\": \"2\"}}"
   ],
   "outputs": [],
   "execution_count": 500
  },
  {
   "metadata": {
    "ExecuteTime": {
     "end_time": "2025-03-23T11:55:37.719440Z",
     "start_time": "2025-03-23T11:55:37.700840Z"
    }
   },
   "cell_type": "code",
   "source": [
    "# from IPython.display import Image, display\n",
    "# \n",
    "# display(Image(graph.get_graph().draw_mermaid_png()))"
   ],
   "id": "13b1b2960dd9ac41",
   "outputs": [],
   "execution_count": 509
  },
  {
   "cell_type": "code",
   "id": "e623dff2d13285a2",
   "metadata": {
    "ExecuteTime": {
     "end_time": "2025-03-23T12:04:38.329531Z",
     "start_time": "2025-03-23T12:04:10.034157Z"
    }
   },
   "source": [
    "for s in graph.stream(\n",
    "    {\"messages\": [(\"user\",\"What media types get attention when consumers look for brands at Christmas time such as Radio and others ? \\\\n\"\n",
    "                    \"Plot the results and visulite it in a good chart.\\\\n\\\\n\" \n",
    "                   \"\\n Finally provide a business analysis and recommendation based on this answer ? \")]},thread\n",
    "):\n",
    "    print(s)\n",
    "    print(\"----\")\n",
    "# results= graph.invoke(\n",
    "#     {\"messages\": [(\"user\",\"What media types get attention when consumers look for brands at Christmas time such as Radio and others ?\"\n",
    "#                     )]},thread\n",
    "# )"
   ],
   "outputs": [
    {
     "name": "stdout",
     "output_type": "stream",
     "text": [
      "{'supervisor': {'next': 'rag'}}\n",
      "----\n",
      "We Retrieve Survey\n",
      "---CHECK DOCUMENT RELEVANCE TO QUESTION---\n",
      "---GRADE: DOCUMENT RELEVANT---\n",
      "---GRADE: DOCUMENT RELEVANT---\n",
      "---GRADE: DOCUMENT RELEVANT---\n",
      "---ASSESS GRADED DOCUMENTS---\n",
      "---DECISION: GENERATE---\n",
      "start generation\n",
      "---CHECK HALLUCINATIONS---\n",
      "---DECISION: GENERATION IS NOT GROUNDED IN DOCUMENTS, RE-TRY---\n",
      "start generation\n",
      "---CHECK HALLUCINATIONS---\n",
      "---DECISION: MAX RETRIES REACHED---\n",
      "{'rag': {'messages': [HumanMessage(content='When looking for brands at Christmas time, the media types that get attention include:\\n\\n1. **TV** - 49%\\n2. **Radio** - 30%\\n3. **Print media** (e.g., newspapers, magazines, flyers) - 21%\\n4. **Out of Home** (e.g., billboards, posters) - 22%\\n\\nThese media types are most likely to attract consumer attention during the holiday season.', additional_kwargs={}, response_metadata={}, name='rag', id='6abff129-3c2c-4e12-9fda-77415085ff4f')]}}\n",
      "----\n",
      "{'supervisor': {'next': 'coder'}}\n",
      "----\n"
     ]
    },
    {
     "data": {
      "text/plain": [
       "<Figure size 1000x600 with 1 Axes>"
      ],
      "image/png": "[encoded data removed]"
     },
     "metadata": {},
     "output_type": "display_data"
    },
    {
     "name": "stdout",
     "output_type": "stream",
     "text": [
      "{'coder': {'messages': [HumanMessage(content=\"Here is a bar chart visualizing consumer attention by media type during the Christmas season:\\n\\n![Consumer Attention by Media Type during Christmas Season](attachment://chart.png)\\n\\n### Business Analysis\\n\\n1. **TV Dominance**: TV captures the highest percentage of consumer attention at 49%. This indicates that TV advertising is a crucial channel for brands during the holiday season. Businesses should invest heavily in compelling TV ads that resonate with the holiday spirit.\\n\\n2. **Radio's Role**: At 30%, radio remains a significant medium. It can effectively reach consumers who are on the go and may not be engaging with visual media. Utilizing radio ads can enhance brand reach, especially during commutes or while consumers are engaged in holiday shopping.\\n\\n3. **Out of Home Advertising**: With 22% attention, Out of Home advertising (such as billboards and posters) provides an additional visibility layer. This medium works well in urban settings where potential customers are likely to see advertisements as they travel.\\n\\n4. **Print Media's Decline**: Print media, attracting only 21% attention, appears to be less effective compared to other channels. This trend suggests a shift in consumer preferences towards digital and broadcast media, indicating that businesses may want to reconsider their investment in print advertising.\\n\\n### Recommendations\\n\\n- **Prioritize TV Advertising**: Allocate a substantial portion of the advertising budget to TV, focusing on high-quality, engaging holiday-themed commercials that can create an emotional connection with viewers.\\n\\n- **Leverage Radio\", additional_kwargs={}, response_metadata={}, name='coder', id='c674b8cb-c7fd-466b-840f-e0de92d7862f')]}}\n",
      "----\n",
      "{'supervisor': {'next': 'business_analysis'}}\n",
      "----\n",
      "current state{'messages': [HumanMessage(content='What media types get attention when consumers look for brands at Christmas time such as Radio and others ?', additional_kwargs={}, response_metadata={}, id='14beee65-aa18-4755-a2bd-e5a91c21edc7'), HumanMessage(content='When looking for brands at Christmas time, the media types that get attention include:\\n\\n1. **TV** - 49%\\n2. **Radio** - 30%\\n3. **Print media** (e.g., newspapers, magazines, flyers) - 21%\\n4. **Out of Home** (e.g., billboards, posters) - 22%\\n\\nThese media types are most likely to attract consumer attention during the holiday season.', additional_kwargs={}, response_metadata={}, name='rag', id='6406f85f-4d5b-4c93-b387-f1dc52a6efaa'), HumanMessage(content='Can you make a business analysis on the results?', additional_kwargs={}, response_metadata={}, id='06ab96d8-50f5-4322-99a1-042363288652'), HumanMessage(content=\"It's hard to give a business analysis without specific results or data context. To provide meaningful insights, please share details such as financial performance, market trends, customer demographics, and operational challenges. Once I have that information, I can recommend targeted strategies for growth and improvement.\", additional_kwargs={}, response_metadata={}, name='business_analysis', id='d960f8e6-16bb-4015-a682-f8d69170e0e0'), HumanMessage(content='Based on the previous results Can you make a business analysis on it?', additional_kwargs={}, response_metadata={}, id='562ec54e-c8ce-486b-bae5-a9355404338e'), HumanMessage(content=\"It's hard to give a business analysis without specific data or context regarding previous results. To create a robust business plan, I recommend gathering detailed insights on market performance, customer feedback, and financial metrics. Once data is available, focus on identifying growth opportunities, optimizing operations, and enhancing customer engagement strategies. Consider setting clear, measurable goals to track progress effectively.\", additional_kwargs={}, response_metadata={}, name='business_analysis', id='38e7f0db-3d9d-4c1b-a9d4-257664769cf8'), HumanMessage(content='Based on the previous results Can you make a business analysis the survey results', additional_kwargs={}, response_metadata={}, id='bb2128e2-6c2c-47f0-9b21-56e4b68d0bb0'), HumanMessage(content=\"It's hard to provide a business plan without specific survey results or key findings. To develop a meaningful strategy, please share data on customer preferences, market trends, or performance metrics. This information is crucial for crafting targeted recommendations and actionable plans.\", additional_kwargs={}, response_metadata={}, name='business_analysis', id='db08b9e9-82ef-4a71-a3bb-dc9069e274f7'), HumanMessage(content='Based on the prompts generation Can you make a business analysis the survey results', additional_kwargs={}, response_metadata={}, id='32fe5bb9-9396-4d96-b66e-65553834d8f7'), HumanMessage(content=\"It's hard to give a business analysis without specific details about the survey results, such as the questions asked, target audience, and key findings. To create an effective business plan, please provide more context regarding these elements. Once that information is available, I can offer tailored recommendations and strategies.\", additional_kwargs={}, response_metadata={}, name='business_analysis', id='01e9c5fa-1688-45c5-9b38-c0f113bac86b'), HumanMessage(content='Can you plot the results of the previous prompt?', additional_kwargs={}, response_metadata={}, id='1ff00be1-ffd0-4900-81a5-151e240dc1d9'), HumanMessage(content='Here is a bar chart displaying consumer attention by media type during Christmas. The chart highlights the percentage of attention each media type receives, showcasing that TV leads with 49%, followed by Radio at 30%, Out of Home at 22%, and Print Media at 21%. \\n\\nIf you have any further questions or need additional analysis, feel free to ask!', additional_kwargs={}, response_metadata={}, name='coder', id='a62f3353-841b-40dc-ac48-148fc9c826d4'), HumanMessage(content='Great ! Can you provide a business analysis? ', additional_kwargs={}, response_metadata={}, id='327b6a5b-7d67-441b-8ddb-9a6e29572bd1'), HumanMessage(content=\"It's hard to give a business analysis without specific context or data. Please provide details about the business scenario or area of interest to enable a tailored recommendation and plan.\", additional_kwargs={}, response_metadata={}, name='business_analysis', id='c79f40f8-3a15-4a56-9028-b7aa0bfa607f'), HumanMessage(content='What is the percentage of mail and female using TV ?', additional_kwargs={}, response_metadata={}, id='2ce1d470-0a4f-4ecd-aaef-3ecb42b118c6'), HumanMessage(content='When looking for brands at Christmas time, the media types that get attention include:\\n\\n1. **TV** - 47%\\n2. **Radio** - 30%\\n3. **Print media** (e.g., newspapers, magazines, flyers) - 21%\\n4. **Out of Home** (e.g., billboards, posters) - 22%\\n\\nThese media types are most likely to attract consumer attention during the holiday season.', additional_kwargs={}, response_metadata={}, name='rag', id='dc3a99bb-3552-4071-b432-9d52e7ae8817'), HumanMessage(content='What media types get attention when consumers look for brands at Christmas time such as Radio and others ?', additional_kwargs={}, response_metadata={}, id='eab890ab-06a4-4331-b8f1-08b39136b921'), HumanMessage(content='What is the percentage of male and female using TV as  ?', additional_kwargs={}, response_metadata={}, id='eb5a6c6f-96ff-4c52-8d21-2d8d795448ff'), HumanMessage(content='When looking for brands at Christmas time, the media types that get attention include:\\n\\n1. **TV** - 49%\\n2. **Radio** - 30%\\n3. **Print media** (e.g., newspapers, magazines, flyers) - 21%\\n4. **Out of Home** (e.g., billboards, posters) - 22%\\n\\nThese media types are most likely to attract consumer attention during the holiday season.', additional_kwargs={}, response_metadata={}, name='rag', id='935bf008-f245-45e1-822b-2143c355fe1a'), HumanMessage(content='Can you do busniess analysis on ?', additional_kwargs={}, response_metadata={}, id='d931ce15-31df-4d0e-a73b-8f23faa8b024'), HumanMessage(content=\"It's hard to give a business analysis on that context without specific data or details. To formulate a robust business plan, please provide information on the industry, target market, financials, and operational challenges. Once I have those details, I can offer tailored recommendations and strategic insights.\", additional_kwargs={}, response_metadata={}, name='business_analysis', id='f7a9f278-f883-4ef9-9b54-51cf76f0c390'), HumanMessage(content='Can you do busniess analysis on ?', additional_kwargs={}, response_metadata={}, id='d5fc50da-1b68-4740-ac9f-04ab7fd440bf'), HumanMessage(content='Can you do business analysis on the previous answer ?', additional_kwargs={}, response_metadata={}, id='db184956-d8a3-4a1c-a0b2-cedda04b2bbd'), HumanMessage(content=\"It's hard to give a business analysis on that context due to the lack of data and situational specifics. To formulate a solid business plan, I recommend gathering detailed market research, identifying key performance indicators, and assessing competitive landscape. Additionally, establishing clear objectives and strategies based on quantitative data will enhance decision-making. Focusing on customer needs and trends will further refine your approach.\", additional_kwargs={}, response_metadata={}, name='business_analysis', id='f05be8f5-d1b3-4545-a20a-3f07321b06c0'), HumanMessage(content='Can you do business analysis on the previous answer ?', additional_kwargs={}, response_metadata={}, id='dfd4fc58-f78d-4802-bfd3-10bc4c04658f'), HumanMessage(content=\"It's hard to give a business analysis on that context, as the statement lacks specific metrics or scenarios. To develop a meaningful business plan, I recommend gathering detailed data on market conditions, customer needs, and competitive landscape. Utilize this information to identify growth opportunities and create targeted strategies. Additionally, consider implementing performance metrics to track progress and adapt the plan as needed.\", additional_kwargs={}, response_metadata={}, name='business_analysis', id='58f1d7a2-63ee-4358-9436-8b47615ea736'), HumanMessage(content='What media types get attention when consumers look for brands at Christmas time such as Radio and others ? \\\\n\\n after getting answer provide a business analysis and recommendation based on that ? ', additional_kwargs={}, response_metadata={}, id='9184d2f8-80b9-4849-b8f8-262648ba6090'), HumanMessage(content='What media types get attention when consumers look for brands at Christmas time such as Radio and others ? \\\\n\\n after getting answer provide a business analysis and recommendation based on that ? ', additional_kwargs={}, response_metadata={}, id='8f8dae04-8526-4df0-801d-75ca42e208c6'), HumanMessage(content='The media types that get attention when consumers look for brands at Christmas time include:\\n\\n1. **TV** - 49%\\n2. **Radio** - 30%\\n3. **Print media** (e.g., newspapers, magazines, flyers) - 21%\\n4. **Out of Home** (e.g., billboards, posters) - 22%\\n\\nThese media types are most likely to attract consumer attention during the holiday season.', additional_kwargs={}, response_metadata={}, name='rag', id='43cf7a38-ad02-4948-a6ff-dbe67904b093'), HumanMessage(content='To capitalize on the dominance of TV during the Christmas season, businesses should allocate a significant portion of their advertising budget to TV campaigns. Additionally, integrating Radio and Out of Home media into a multi-channel strategy will enhance brand visibility and engagement. Given the limited effectiveness of print media, resources should be reallocated away from this channel. Monitoring consumer response across platforms will allow for real-time adjustments to maximize reach and impact.', additional_kwargs={}, response_metadata={}, name='business_analysis', id='646f754d-f98a-42b9-ae99-531660bdadd7'), HumanMessage(content='What media types get attention when consumers look for brands at Christmas time such as Radio and others ? \\\\nPlot the results and visulite it in a good chart.\\\\n\\\\n\\n Finally provide a business analysis and recommendation based on that ? ', additional_kwargs={}, response_metadata={}, id='c014d325-c029-45da-9b1c-ff83d640982c'), HumanMessage(content='The media types that get attention when consumers look for brands at Christmas time include:\\n\\n1. **TV** - 49%\\n2. **Radio** - 30%\\n3. **Print media** (e.g., newspapers, magazines, flyers) - 21%\\n4. **Out of Home** (e.g., billboards, posters) - 22%\\n\\nThese media types are most likely to attract consumer attention during the holiday season.', additional_kwargs={}, response_metadata={}, name='rag', id='511cda14-b158-4d7d-a328-b388770847b3'), HumanMessage(content='The bar chart visualizes consumer attention by media type during the Christmas season, highlighting the following percentages:\\n\\n- **TV**: 49%\\n- **Radio**: 30%\\n- **Out of Home**: 22%\\n- **Print Media**: 21%\\n\\n### Business Analysis\\n\\n1. **Dominance of TV**: TV is the leading medium that captures consumer attention during the holiday season. Businesses should prioritize TV advertising to maximize reach and engagement with their target audience.\\n\\n2. **Significance of Radio**: With 30% of consumers paying attention to radio, this medium remains a valuable channel, especially for targeting audiences who may not be engaged with TV.\\n\\n3. **Out of Home Advertising**: At 22%, Out of Home (OOH) media offers additional visibility, particularly in high-traffic areas, making it a strategic complement to TV and radio campaigns.\\n\\n4. **Print Media Limitations**: Print media garnered only 21% attention, suggesting a decline in effectiveness compared to digital and broadcast channels. Businesses should consider reallocating resources from print to more impactful media types.\\n\\n### Recommendations\\n\\n- **Allocate Budget Wisely**: Focus advertising budgets primarily on TV and Radio, as they are the most effective media types for capturing consumer attention during Christmas.\\n\\n- **Integrated Marketing Strategy**: Combine TV and Radio advertising with Out of Home promotions to create a comprehensive marketing strategy that covers multiple touchpoints.\\n\\n- **Monitor and Adapt**: Continuously monitor consumer responses', additional_kwargs={}, response_metadata={}, name='coder', id='9c6906b4-660b-4d6f-8101-3998b18a8f7c'), HumanMessage(content='What media types get attention when consumers look for brands at Christmas time such as Radio and others ? \\\\nPlot the results and visulite it in a good chart.\\\\n\\\\n\\n Finally provide a business analysis and recommendation based on this answer ? ', additional_kwargs={}, response_metadata={}, id='efe17013-0b51-4af4-bb4f-a1df703dba89'), HumanMessage(content='When looking for brands at Christmas time, the media types that get attention include:\\n\\n1. **TV** - 49%\\n2. **Radio** - 30%\\n3. **Print media** (e.g., newspapers, magazines, flyers) - 21%\\n4. **Out of Home** (e.g., billboards, posters) - 22%\\n\\nThese media types are most likely to attract consumer attention during the holiday season.', additional_kwargs={}, response_metadata={}, name='rag', id='6abff129-3c2c-4e12-9fda-77415085ff4f'), HumanMessage(content=\"Here is a bar chart visualizing consumer attention by media type during the Christmas season:\\n\\n![Consumer Attention by Media Type during Christmas Season](attachment://chart.png)\\n\\n### Business Analysis\\n\\n1. **TV Dominance**: TV captures the highest percentage of consumer attention at 49%. This indicates that TV advertising is a crucial channel for brands during the holiday season. Businesses should invest heavily in compelling TV ads that resonate with the holiday spirit.\\n\\n2. **Radio's Role**: At 30%, radio remains a significant medium. It can effectively reach consumers who are on the go and may not be engaging with visual media. Utilizing radio ads can enhance brand reach, especially during commutes or while consumers are engaged in holiday shopping.\\n\\n3. **Out of Home Advertising**: With 22% attention, Out of Home advertising (such as billboards and posters) provides an additional visibility layer. This medium works well in urban settings where potential customers are likely to see advertisements as they travel.\\n\\n4. **Print Media's Decline**: Print media, attracting only 21% attention, appears to be less effective compared to other channels. This trend suggests a shift in consumer preferences towards digital and broadcast media, indicating that businesses may want to reconsider their investment in print advertising.\\n\\n### Recommendations\\n\\n- **Prioritize TV Advertising**: Allocate a substantial portion of the advertising budget to TV, focusing on high-quality, engaging holiday-themed commercials that can create an emotional connection with viewers.\\n\\n- **Leverage Radio\", additional_kwargs={}, response_metadata={}, name='coder', id='c674b8cb-c7fd-466b-840f-e0de92d7862f')], 'next': 'business_analysis'}\n",
      "start analysis\n",
      "start planning\n",
      "{'business_analysis': {'messages': [HumanMessage(content='Based on the analysis, I recommend reallocating the marketing budget to prioritize TV and radio advertising during the Christmas season, as these channels drive better consumer engagement. Simultaneously, reduce investments in print media, as its effectiveness appears diminished. Implement targeted campaigns that leverage festive themes and promotions on these platforms to maximize reach and impact. Regularly assess performance metrics to adjust strategies as needed.', additional_kwargs={}, response_metadata={}, name='business_analysis', id='c9a89f5d-0953-4188-893c-f3b87e0c63c3')]}}\n",
      "----\n",
      "{'supervisor': {'next': '__end__'}}\n",
      "----\n"
     ]
    }
   ],
   "execution_count": 516
  },
  {
   "metadata": {
    "ExecuteTime": {
     "end_time": "2025-03-23T12:05:23.247195Z",
     "start_time": "2025-03-23T12:05:23.243792Z"
    }
   },
   "cell_type": "code",
   "source": "",
   "id": "2989fbdb0d7467d5",
   "outputs": [],
   "execution_count": 516
  },
  {
   "metadata": {},
   "cell_type": "code",
   "outputs": [],
   "execution_count": null,
   "source": "",
   "id": "837afd7be4f6a51b"
  }
 ],
 "metadata": {
  "kernelspec": {
   "display_name": "Python 3 (ipykernel)",
   "language": "python",
   "name": "python3"
  },
  "language_info": {
   "codemirror_mode": {
    "name": "ipython",
    "version": 3
   },
   "file_extension": ".py",
   "mimetype": "text/x-python",
   "name": "python",
   "nbconvert_exporter": "python",
   "pygments_lexer": "ipython3",
   "version": "3.10.14"
  }
 },
 "nbformat": 4,
 "nbformat_minor": 5
}
